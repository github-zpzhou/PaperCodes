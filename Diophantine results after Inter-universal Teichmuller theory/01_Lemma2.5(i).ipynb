{
 "cells": [
  {
   "cell_type": "markdown",
   "metadata": {},
   "source": [
    "# Computation for Lemma 2.5 (i)"
   ]
  },
  {
   "cell_type": "code",
   "execution_count": 1,
   "metadata": {},
   "outputs": [],
   "source": [
    "import os\n",
    "import pandas as pd\n",
    "from inspect import getsource\n",
    "from utils import *\n",
    "if not os.path.exists('data/'):\n",
    "    os.makedirs('data')"
   ]
  },
  {
   "cell_type": "markdown",
   "metadata": {},
   "source": [
    "We shall define the functions $f_1(x)$, $f_2(x)$ and $f_3(x)$."
   ]
  },
  {
   "cell_type": "code",
   "execution_count": 2,
   "metadata": {},
   "outputs": [
    {
     "name": "stdout",
     "output_type": "stream",
     "text": [
      "def f1(x):\n",
      "    n = int(x)\n",
      "    sum1, sum2, sum3 = 0, 0, 0\n",
      "    for p in primes(n):\n",
      "        sum1 += log(p) / (p-1)\n",
      "        sum2 += log(p)\n",
      "        sum3 += log(p) * p\n",
      "    res = sum1 + (1+1/x)*sum2 - sum3/x\n",
      "    return res\n",
      "\n",
      "def f2(x):\n",
      "    res = f1(3*x)\n",
      "    res += (log(18)+(x-1)*log(x))/(3*x)\n",
      "    res += log(32*9*pi*x*x)\n",
      "    res *= (x*x+5*x) / (x*x+x-12)\n",
      "    return res\n",
      "\n",
      "def f3(x):\n",
      "    res = f1(30*x+1)\n",
      "    res += (log(2*9*625)+(x-1)*log(x))/(30*x)\n",
      "    res += log(pow(2,7)*pow(3,5)*pow(5,2)*pi*x*x)\n",
      "    res *= (x*x+5*x) / (x*x+x-12)\n",
      "    return res\n",
      "\n",
      "def list_of_f1(n):\n",
      "    # the list [0,0,f1(2), ..., f(n)]\n",
      "    # sieve for prime numbers <= n\n",
      "    sieve = [True] * (n+1)\n",
      "    for p in trange(2, n+1):\n",
      "        if (sieve[p]):\n",
      "            for i in range(2*p, n+1, p):\n",
      "                sieve[i] = False\n",
      "    # compute the values of $f1$\n",
      "    res = [0] * (n+1)\n",
      "    sum1, sum2, sum3 = 0, 0, 0\n",
      "    for x in trange(2,n+1):\n",
      "        if (sieve[x]):\n",
      "            p = x\n",
      "            sum1 += log(p) / (p-1)\n",
      "            sum2 += log(p)\n",
      "            sum3 += log(p) * p\n",
      "        res[x] = sum1 + (1+1/x)*sum2 - sum3/x\n",
      "    return res\n",
      "\n",
      "def list_of_f2(n):\n",
      "    # the list [0,0,0,0,f2(4), ..., f2(n)]\n",
      "    list_of_f1_n = list_of_f1(3*n)\n",
      "    res = [0] * (n+1)\n",
      "    for x1,f1 in zip(trange(0,3*n+1), list_of_f1_n):\n",
      "        if x1%3 != 0 or x1 < 12:\n",
      "            continue\n",
      "        x = x1 // 3\n",
      "        tmp = f1 + (log(18)+(x-1)*log(x))/(3*x) + log(32*9*pi*x*x)\n",
      "        tmp *= (x*x+5*x) / (x*x+x-12)\n",
      "        res[x] = tmp\n",
      "    return res\n",
      "\n",
      "def list_of_f3(n):\n",
      "    # the list [0,0,0,0,f3(4), ..., f3(n)]\n",
      "    list_of_f1_n = list_of_f1(30*n+1)\n",
      "    res = [0] * (n+1)\n",
      "    for x1,f1 in zip(trange(0,30*n+2), list_of_f1_n):\n",
      "        if (x1-1)%30 != 0 or x1 < 121:\n",
      "            continue\n",
      "        x = x1 // 30\n",
      "        tmp = f1 + (log(2*9*625)+(x-1)*log(x))/(30*x) + log(pow(2,7)*pow(3,5)*pow(5,2)*pi*x*x)\n",
      "        tmp *= (x*x+5*x) / (x*x+x-12)\n",
      "        res[x] = tmp\n",
      "    return res\n",
      "\n"
     ]
    }
   ],
   "source": [
    "for func_name in ('f1','f2','f3','list_of_f1','list_of_f2','list_of_f3'):\n",
    "    exec(f'print(getsource({func_name}))')"
   ]
  },
  {
   "cell_type": "markdown",
   "metadata": {},
   "source": [
    "The following code verifies the inequality\n",
    "$$\\sum_{p\\le A} p\\cdot\\log(p) - (\\frac{1}{2}+\\frac{1.515 \\epsilon}{\\log(A)}) A^2 \n",
    "    > -\\frac{0.008 \\epsilon \\cdot (10\\cdot A)^2}{\\log(10\\cdot A)}.$$"
   ]
  },
  {
   "cell_type": "code",
   "execution_count": 3,
   "metadata": {},
   "outputs": [],
   "source": [
    "A = 28900000\n",
    "eps = 0.006788\n",
    "primes_A = primes(A)"
   ]
  },
  {
   "cell_type": "code",
   "execution_count": 4,
   "metadata": {},
   "outputs": [
    {
     "name": "stdout",
     "output_type": "stream",
     "text": [
      "-0.007328222190963182\n",
      "True\n"
     ]
    }
   ],
   "source": [
    "sum = 0\n",
    "for p in primes_A:\n",
    "    sum += p * log(p)\n",
    "res = sum - (0.5 + 0.485*eps/log(A)) * pow(A,2)\n",
    "res = res * log(10*A) / pow(10*A,2) / eps \n",
    "print(res)\n",
    "print(res > - 0.008)"
   ]
  },
  {
   "cell_type": "markdown",
   "metadata": {},
   "source": [
    "The following code verifies the inequality\n",
    "$$\\sum_{p\\le A} \\frac{\\log(p)}{p(p-1)} + \\frac{1}{\\sqrt{A}} < 0.8. $$"
   ]
  },
  {
   "cell_type": "code",
   "execution_count": 5,
   "metadata": {},
   "outputs": [
    {
     "name": "stdout",
     "output_type": "stream",
     "text": [
      "0.755552592564666\n",
      "True\n"
     ]
    }
   ],
   "source": [
    "sum = 0\n",
    "for p in primes_A:\n",
    "    sum += log(p) / (p * (p-1))\n",
    "res = sum + 1 / sqrt(A)\n",
    "print(res)\n",
    "print(res<0.8)"
   ]
  },
  {
   "cell_type": "markdown",
   "metadata": {},
   "source": [
    "The following code verifies the inequality\n",
    "$$f_1(n) < \\frac{1}{2}\\cdot n + 0.01035 \\cdot \\frac{n}{\\log(n)}, \\quad 21 \\le n \\le 12\\cdot A.$$\n"
   ]
  },
  {
   "cell_type": "code",
   "execution_count": 6,
   "metadata": {},
   "outputs": [
    {
     "name": "stderr",
     "output_type": "stream",
     "text": [
      "100%|██████████| 288999999/288999999 [02:23<00:00, 2020210.09it/s]\n",
      "100%|██████████| 288999999/288999999 [01:36<00:00, 2985862.66it/s]\n",
      "100%|██████████| 289000001/289000001 [02:09<00:00, 2230779.26it/s]"
     ]
    },
    {
     "name": "stdout",
     "output_type": "stream",
     "text": [
      "True\n"
     ]
    },
    {
     "name": "stderr",
     "output_type": "stream",
     "text": [
      "\n"
     ]
    }
   ],
   "source": [
    "if not os.path.isfile('data/list_of_f1_10A.pkl'):\n",
    "    list_of_f1_10A = list_of_f1(10 * A)\n",
    "    pd.to_pickle(list_of_f1_10A,\"data/list_of_f1_10A.pkl\")\n",
    "else:\n",
    "    list_of_f1_10A = pd.read_pickle(\"data/list_of_f1_10A.pkl\")\n",
    "\n",
    "flag = True\n",
    "for n, f1_n in zip(trange(10*A+1),list_of_f1_10A):\n",
    "    if n < 21:\n",
    "        continue\n",
    "    diff = f1_n - (0.5 * n + 0.01035 * n / log(n))\n",
    "    if diff > - 0.01:\n",
    "        flag = False\n",
    "        print(n, diff)\n",
    "print(flag)"
   ]
  },
  {
   "cell_type": "markdown",
   "metadata": {},
   "source": [
    "The following code verifies the inequality\n",
    "\\begin{align*}\n",
    "        f_2(n) < \\left\\{\n",
    "        \\begin{aligned}\n",
    "        &\\frac{3}{2}\\cdot n + 25 , & 11 \\le n \\le 467, \\\\\n",
    "        &\\frac{3}{2}\\cdot n + \\frac{n}{32\\cdot \\log(n)} , & 468 \\le n \\le 10^7.\n",
    "        \\end{aligned}\n",
    "        \\right.\n",
    "\\end{align*}"
   ]
  },
  {
   "cell_type": "code",
   "execution_count": 7,
   "metadata": {},
   "outputs": [
    {
     "name": "stderr",
     "output_type": "stream",
     "text": [
      "100%|██████████| 29999999/29999999 [00:13<00:00, 2258022.81it/s]\n",
      "100%|██████████| 29999999/29999999 [00:10<00:00, 2986072.81it/s]\n",
      "100%|██████████| 30000001/30000001 [00:13<00:00, 2167066.14it/s]\n",
      "100%|██████████| 10000001/10000001 [00:04<00:00, 2164774.12it/s]"
     ]
    },
    {
     "name": "stdout",
     "output_type": "stream",
     "text": [
      "True\n"
     ]
    },
    {
     "name": "stderr",
     "output_type": "stream",
     "text": [
      "\n"
     ]
    }
   ],
   "source": [
    "if not os.path.isfile('data/list_of_f2_1e7.pkl'):\n",
    "    list_of_f2_1e7 = list_of_f2(pow(10,7))\n",
    "    pd.to_pickle(list_of_f2_1e7,\"data/list_of_f2_1e7.pkl\")\n",
    "else:\n",
    "    list_of_f2_1e7 = pd.read_pickle(\"data/list_of_f2_1e7.pkl\")\n",
    "\n",
    "flag = True\n",
    "for n, f2_n in zip(trange(pow(10,7)+1),list_of_f2_1e7):\n",
    "    if n < 11:\n",
    "        continue\n",
    "    if n < 468:\n",
    "        diff = f2_n - (1.5 * n + 25)\n",
    "    else:\n",
    "        diff = f2_n - (1.5 * n + 1/32 * n/log(n))\n",
    "    if diff > - 0.01:\n",
    "        flag = False\n",
    "        print(n, diff)\n",
    "print(flag)"
   ]
  },
  {
   "cell_type": "markdown",
   "metadata": {},
   "source": [
    "The following code verifies the inequality\n",
    "\\begin{align*}\n",
    "        f_3(n) < \\left\\{\n",
    "        \\begin{aligned}\n",
    "        &15\\cdot n + \\frac{1200\\cdot \\log(n)}{n} , & 11 \\le n \\le 286, \\\\\n",
    "        &15\\cdot n + \\frac{n}{3\\cdot \\log(n)} , & 287 \\le n \\le 10^6.\n",
    "        \\end{aligned}\n",
    "        \\right.\n",
    "    \\end{align*}"
   ]
  },
  {
   "cell_type": "code",
   "execution_count": 8,
   "metadata": {},
   "outputs": [
    {
     "name": "stderr",
     "output_type": "stream",
     "text": [
      "100%|██████████| 30000000/30000000 [00:13<00:00, 2228569.52it/s]\n",
      "100%|██████████| 30000000/30000000 [00:09<00:00, 3065309.83it/s]\n",
      "100%|██████████| 30000002/30000002 [00:07<00:00, 3859891.87it/s]\n",
      "100%|██████████| 1000001/1000001 [00:00<00:00, 2151182.11it/s]"
     ]
    },
    {
     "name": "stdout",
     "output_type": "stream",
     "text": [
      "True\n"
     ]
    },
    {
     "name": "stderr",
     "output_type": "stream",
     "text": [
      "\n"
     ]
    }
   ],
   "source": [
    "if not os.path.isfile('data/list_of_f3_1e6.pkl'):\n",
    "    list_of_f3_1e6 = list_of_f3(pow(10,6))\n",
    "    pd.to_pickle(list_of_f3_1e6,\"data/list_of_f3_1e6.pkl\")\n",
    "else:\n",
    "    list_of_f3_1e6 = pd.read_pickle(\"data/list_of_f3_1e6.pkl\")\n",
    "\n",
    "flag = True\n",
    "for n, f3_n in zip(trange(pow(10,6)+1),list_of_f3_1e6):\n",
    "    if n < 4:\n",
    "        continue\n",
    "    if n < 287:\n",
    "        diff = f3_n - (15 * n + 1200 * log(n)/n)\n",
    "    else:\n",
    "        diff = f3_n - (15 * n + 1/3 * n/log(n))\n",
    "    if diff > - 0.01:\n",
    "        flag = False\n",
    "        print(n, diff)\n",
    "print(flag)"
   ]
  }
 ],
 "metadata": {
  "kernelspec": {
   "display_name": "Python 3",
   "language": "python",
   "name": "python3"
  },
  "language_info": {
   "codemirror_mode": {
    "name": "ipython",
    "version": 3
   },
   "file_extension": ".py",
   "mimetype": "text/x-python",
   "name": "python",
   "nbconvert_exporter": "python",
   "pygments_lexer": "ipython3",
   "version": "3.8.8"
  }
 },
 "nbformat": 4,
 "nbformat_minor": 2
}
