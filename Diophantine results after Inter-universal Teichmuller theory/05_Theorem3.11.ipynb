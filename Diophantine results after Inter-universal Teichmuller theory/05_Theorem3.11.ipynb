{
 "cells": [
  {
   "cell_type": "markdown",
   "metadata": {},
   "source": [
    "# Computation for Theorem 3.11"
   ]
  },
  {
   "cell_type": "code",
   "execution_count": 1,
   "metadata": {},
   "outputs": [],
   "source": [
    "import os\n",
    "import pandas as pd\n",
    "from inspect import getsource\n",
    "from utils import *\n",
    "if not os.path.exists('data/'):\n",
    "    os.makedirs('data')"
   ]
  },
  {
   "cell_type": "markdown",
   "metadata": {},
   "source": [
    "Based on Lemma 3.9, the following code computes the interval which the value of $\\log(N)$ cannot belong to, and then provides an upper bound of $\\log(N)$.\n",
    "\n",
    "Here $N = |abc|/\\gcd(16,abc)$, so $\\log(|abc|) \\le \\log(N)+\\log(16)$, hence we can also get an upper bound of $\\log(abc)$.\n",
    "We can take this upper bound [enlarging slightly for the error in computation] as an upper bound of $f(u,t)$.\n",
    "\n",
    "Note that if we get the upper bound $f(u,t) \\le M$ by the compute using the first definition of $b_1$ in Lemma 3.9, then for any $u' \\ge u$, $s' \\ge s$, we must have $f(u', t') \\le M$ [since $b_1$ is monotonically increasing when $r, s, t$ increase]."
   ]
  },
  {
   "cell_type": "code",
   "execution_count": 2,
   "metadata": {},
   "outputs": [
    {
     "name": "stderr",
     "output_type": "stream",
     "text": [
      "100%|██████████| 29999/29999 [00:00<00:00, 2554872.70it/s]\n",
      "100%|██████████| 29999/29999 [00:00<00:00, 571258.95it/s]\n",
      "100%|██████████| 30001/30001 [00:00<00:00, 1760620.59it/s]\n"
     ]
    }
   ],
   "source": [
    "if not os.path.isfile('data/list_of_f2_1e4.pkl'):\n",
    "    list_of_f2_1e4 = list_of_f2(pow(10,4))\n",
    "    pd.to_pickle(list_of_f2_1e4,\"data/list_of_f2_1e4.pkl\")\n",
    "else:\n",
    "    list_of_f2_1e4 = pd.read_pickle(\"data/list_of_f2_1e4.pkl\")\n",
    "\n",
    "if not os.path.isfile('data/volume_150_when_bad_at_2.pkl'):\n",
    "    volume_150_when_bad_at_2 = compute_log_volume(p, is_bad_at_2=True)\n",
    "    pd.to_pickle(volume_150_when_bad_at_2,\"data/volume_150_when_bad_at_2.pkl\")\n",
    "else:\n",
    "    volume_150_when_bad_at_2 = pd.read_pickle(\"data/volume_150_when_bad_at_2.pkl\")"
   ]
  },
  {
   "cell_type": "code",
   "execution_count": 3,
   "metadata": {},
   "outputs": [],
   "source": [
    "def bound_of_log_N(u, t, is_second_b1 = False, s = 0):\n",
    "    is_bad_at_2 = min(u,t) > 4\n",
    "    my_log_volumes = list_of_f2_1e4.copy()\n",
    "    if is_bad_at_2:\n",
    "        for p in volume_150_when_bad_at_2:\n",
    "            my_log_volumes[p] = volume_150_when_bad_at_2[p]\n",
    "\n",
    "    if min(u,t) >= 4:\n",
    "        my_primes = [p for p in primes(2000) if p >= 11]\n",
    "    else:\n",
    "        my_primes = [p for p in primes(2000) if p >= 23 and p not in (37,43,67,163)]\n",
    "    intervals = []\n",
    "    arr_S = []\n",
    "    for n in range(2,20):\n",
    "        for k in range(len(my_primes)-n):\n",
    "            arr_S.append(my_primes[k:k+n])\n",
    "    for k in range(len(arr_S)):\n",
    "        S = sorted(list(arr_S[k]))\n",
    "        n = len(S)\n",
    "        a1 = 0 # avg of O(1/p)\n",
    "        a2 = 0 # avg of log-volume\n",
    "        a3 = 0 # sum of log(p)\n",
    "        for p in S:\n",
    "            a1 += (11*p+31) / (p*p+p-12)\n",
    "            a2 += my_log_volumes[p]  \n",
    "            a3 += log(p)\n",
    "        a1 = a1 / n\n",
    "        a2 = 3 * a2 / n\n",
    "        a3 = a3\n",
    "\n",
    "        p0 = S[0]\n",
    "        b1 = max(2/n+(3+a1)/p0, ((3+a1)/min(u,t)+2/n+(3+a1)/p0)/2, (3+a1)*(1/u+1/t)/2 )\n",
    "        if u==t and is_second_b1:\n",
    "            b1 = max(2/n+(3+a1)/p0, (2/n+(3+a1)/p0)*(t-1)/(3*t-1) + (3+a1)*2/(3*t-1), (3+a1)*(2+(t-1)/s)/(3*t-1))\n",
    "        b2 = a2 + (3+a1)*(a3+log(16)/min(u,t))\n",
    "\n",
    "        if b1>=1:\n",
    "            continue\n",
    "        upper_bound = p0*S[1]*log(2)\n",
    "        lower_bound = b2 / (1-b1)\n",
    "        if lower_bound > upper_bound:\n",
    "            continue\n",
    "        intervals.append([lower_bound,upper_bound])\n",
    "\n",
    "    res = merge_intervals(intervals)\n",
    "    return res\n",
    "\n",
    "def bound_of_log_abc(u, t, is_second_b1 = False, s = 0):\n",
    "    intervals = bound_of_log_N(u, t, is_second_b1, s)\n",
    "    if len(intervals) == 0:\n",
    "        return -1000\n",
    "    if intervals[-1][1] <= 10^6:\n",
    "        # check that the interval of impossible values of \\log(N) covers 10^6 \n",
    "        print(\"Error for existing possible \\log(N) near 10^6\")\n",
    "    return intervals[-1][0] + log(16)    "
   ]
  },
  {
   "cell_type": "code",
   "execution_count": 4,
   "metadata": {},
   "outputs": [
    {
     "name": "stdout",
     "output_type": "stream",
     "text": [
      "$(2,7)$ & $62642$ \\\\\n",
      "$(2,8)$ & $22599$ \\\\\n",
      "$(2,9)$ & $13997$ \\\\\n",
      "$(2,10)$ & $10441$ \\\\\n",
      "$(2,11)$ & $8767$ \\\\\n",
      "$(2,12)$ & $7650$ \\\\\n",
      "$(2,13)$ & $6885$ \\\\\n",
      "$(2,14)$ & $6453$ \\\\\n",
      "$(2,15)$ & $6253$ \\\\\n",
      "$(2,16)$ & $6069$ \\\\\n",
      "$(2,17)$ & $5892$ \\\\\n",
      "$(2,18)$ & $5835$ \\\\\n",
      "$(2,19)$ & $5822$ \\\\\n",
      "$(3,4)$ & $5753$ \\\\\n",
      "$(3,5)$ & $2710$ \\\\\n",
      "$(3,6)$ & $1982$ \\\\\n",
      "$(3,7)$ & $1643$ \\\\\n",
      "$(3,8)$ & $1521$ \\\\\n",
      "$(3,9)$ & $1477$ \\\\\n",
      "$(3,10)$ & $1465$ \\\\\n",
      "$(4,4)$ & $1760$ \\\\\n",
      "$(4,5)$ & $1174$ \\\\\n",
      "$(4,6)$ & $999$ \\\\\n",
      "$(4,7)$ & $919$ \\\\\n",
      "$(4,8)$ & $896$ \\\\\n",
      "$(4,9)$ & $895$ \\\\\n",
      "$(5,5)$ & $810$ \\\\\n",
      "$(5,6)$ & $711$ \\\\\n",
      "$(5,7)$ & $675$ \\\\\n",
      "$(5,8)$ & $672$ \\\\\n",
      "$(6,6)$ & $595$ \\\\\n",
      "$(6,7)$ & $569$ \\\\\n",
      "$(7,7)$ & $541$ \\\\\n",
      "$(7,8)$ & $528$ \\\\\n",
      "$(8,8)$ & $516$ \\\\\n",
      "$(9,9)$ & $511$ \\\\\n",
      "$(10,10)$ & $511$ \\\\\n"
     ]
    }
   ],
   "source": [
    "# assume without loss of generality that u <= t\n",
    "for u in range(2,11):\n",
    "    tmp_bound = 0\n",
    "    for t in range(u,15+(u==2)*15):\n",
    "        tmp = ceil(bound_of_log_abc(u,t)+0.1)\n",
    "        if tmp < 0:\n",
    "            continue\n",
    "        if tmp_bound == tmp:\n",
    "            break\n",
    "        else:\n",
    "            tmp_bound = tmp\n",
    "        print(f'$({u},{t})$ & ${ceil(bound_of_log_abc(u,t)+0.1)}$ \\\\\\\\')"
   ]
  },
  {
   "cell_type": "code",
   "execution_count": 5,
   "metadata": {},
   "outputs": [
    {
     "name": "stdout",
     "output_type": "stream",
     "text": [
      "$(3,4,3)$ & $20581$ \\\\\n",
      "$(3,5,3)$ & $9174$ \\\\\n",
      "$(3,6,3)$ & $6269$ \\\\\n",
      "$(3,7,3)$ & $5132$ \\\\\n",
      "$(3,8,3)$ & $4613$ \\\\\n",
      "$(3,9,3)$ & $4293$ \\\\\n",
      "$(3,10,3)$ & $4127$ \\\\\n",
      "$(3,11,3)$ & $4015$ \\\\\n",
      "$(3,12,3)$ & $3897$ \\\\\n",
      "$(3,13,3)$ & $3892$ \\\\\n",
      "$(4,4,4)$ & $1760$ \\\\\n",
      "$(4,5,4)$ & $1468$ \\\\\n",
      "$(4,6,4)$ & $1308$ \\\\\n",
      "$(4,7,4)$ & $1252$ \\\\\n",
      "$(4,8,4)$ & $1249$ \\\\\n",
      "$(5,5,5)$ & $810$ \\\\\n",
      "$(5,6,5)$ & $738$ \\\\\n",
      "$(5,7,5)$ & $732$ \\\\\n",
      "$(6,6,6)$ & $595$ \\\\\n",
      "$(6,7,6)$ & $579$ \\\\\n",
      "$(7,7,7)$ & $541$ \\\\\n",
      "$(7,8,7)$ & $533$ \\\\\n",
      "$(8,8,8)$ & $516$ \\\\\n",
      "$(9,9,9)$ & $511$ \\\\\n",
      "$(10,10,10)$ & $511$ \\\\\n"
     ]
    }
   ],
   "source": [
    "for t in range(3,11):\n",
    "    tmp_bound = 0\n",
    "    for s in range(t,15+(t==3)*5):\n",
    "        tmp = ceil(bound_of_log_abc(t,t,True,s)+0.1)\n",
    "        if tmp < 0:\n",
    "            continue\n",
    "        if tmp_bound == tmp:\n",
    "            break\n",
    "        else:\n",
    "            tmp_bound = tmp\n",
    "        print(f'$({t},{s},{t})$ & ${ceil(bound_of_log_abc(t,t,True,s)+0.1)}$ \\\\\\\\')"
   ]
  },
  {
   "cell_type": "markdown",
   "metadata": {},
   "source": [
    "Based on Lemma 3.10, the following code computes the interval which the value of $\\log(N)$ cannot belong to, and then provides an upper bound of $\\log(N)$.\n",
    "\n",
    "Here $c = z^m, N = |c|/\\gcd(1728,c)$, so $\\log(|z^m|) = \\log(c) \\le \\log(N)+\\log(1728)$, hence we can also get an upper bound [enlarging slightly for the error in computation] of $\\log(c)$."
   ]
  },
  {
   "cell_type": "code",
   "execution_count": 6,
   "metadata": {},
   "outputs": [
    {
     "name": "stderr",
     "output_type": "stream",
     "text": [
      "100%|██████████| 300000/300000 [00:00<00:00, 2780348.50it/s]\n",
      "100%|██████████| 300000/300000 [00:00<00:00, 1631500.11it/s]\n",
      "100%|██████████| 300002/300002 [00:00<00:00, 1713445.56it/s]\n"
     ]
    }
   ],
   "source": [
    "if not os.path.isfile('data/list_of_f3_1e4.pkl'):\n",
    "    list_of_f3_1e4 = list_of_f3(pow(10,4))\n",
    "    pd.to_pickle(list_of_f3_1e4,\"data/list_of_f3_1e4.pkl\")\n",
    "else:\n",
    "    list_of_f3_1e4 = pd.read_pickle(\"data/list_of_f3_1e4.pkl\")"
   ]
  },
  {
   "cell_type": "code",
   "execution_count": 7,
   "metadata": {},
   "outputs": [],
   "source": [
    "def bound2_of_log_N(m): \n",
    "    my_log_volumes = list_of_f3_1e4.copy()\n",
    "    my_primes = [p for p in primes(3000) if p >= 23 and p not in (37,43,67,163)]\n",
    "    intervals = []\n",
    "    arr_S = []\n",
    "    for n in range(2,20):\n",
    "        for k in range(len(my_primes)-n):\n",
    "            arr_S.append(my_primes[k:k+n])\n",
    "    for k in range(len(arr_S)):\n",
    "        S = sorted(list(arr_S[k]))\n",
    "        n = len(S)\n",
    "        a1 = 0 # avg of O(1/p)\n",
    "        a2 = 0 # avg of log-volume\n",
    "        a3 = 0 # sum of log(p)\n",
    "        for p in S:\n",
    "            a1 += (119*p+355) / (5*p*p+5*p-60)\n",
    "            a2 += my_log_volumes[p]  \n",
    "            a3 += log(p)\n",
    "        a1 = a1 / n\n",
    "        a2 = 6 * a2 / n\n",
    "        a3 = a3\n",
    "\n",
    "        p0 = S[0]\n",
    "        b1 = max(2/n+(6+a1)/p0, (6+a1)/m)\n",
    "        b2 = a2 + (6+a1)*(a3 + log(1728)/m)\n",
    "\n",
    "        if b1>=1:\n",
    "            continue\n",
    "        upper_bound = p0*S[1]*log(2)\n",
    "        lower_bound = b2 / (1-b1)\n",
    "        if lower_bound > upper_bound:\n",
    "            continue\n",
    "        intervals.append([lower_bound,upper_bound])\n",
    "\n",
    "    res = merge_intervals(intervals)\n",
    "    return res\n",
    "\n",
    "def bound2_of_log_abc(m):\n",
    "    intervals = bound2_of_log_N(m)\n",
    "    if len(intervals) == 0:\n",
    "        return -1\n",
    "    return intervals[-1][0] + log(1728)    "
   ]
  },
  {
   "cell_type": "code",
   "execution_count": 8,
   "metadata": {},
   "outputs": [
    {
     "name": "stdout",
     "output_type": "stream",
     "text": [
      "$7$ & $611393$ &\n",
      "$8$ & $202114$ &\n",
      "$9$ & $116111$ &\n",
      "$10$ & $81135$ &\n",
      "$11$ & $63249$ \\\\\n",
      "$12$ & $55529$ &\n",
      "$13$ & $45838$ &\n",
      "$14$ & $42312$ &\n",
      "$15$ & $38985$ &\n",
      "$16$ & $34337$ \\\\\n",
      "$17$ & $33222$ &\n",
      "$18$ & $31783$ &\n",
      "$19$ & $30947$ &\n",
      "$20$ & $30630$ &\n",
      "$21$ & $30002$ \\\\\n",
      "$22$ & $29514$ &\n",
      "$23$ & $29355$ &\n",
      "$24$ & $28151$ &\n",
      "$25$ & $28095$ &\n",
      "$26$ & $27811$ \\\\\n",
      "$27$ & $27662$ &\n",
      "$28$ & $27588$ &\n",
      "$29$ & $27396$ &\n",
      "$30$ & $27396$ &\n",
      "$31$ & $27246$ \\\\\n",
      "$32$ & $27246$ &\n",
      "$33$ & $26536$ &\n",
      "$34$ & $26532$ &\n",
      "$35$ & $26524$ &\n",
      "$36$ & $26507$ \\\\\n",
      "$37$ & $26507$ &\n",
      "$38$ & $26507$ &\n",
      "$39$ & $26507$ &\n",
      "$40$ & $26507$ &\n",
      "$41$ & $26507$ \\\\\n",
      "$42$ & $26507$ &\n",
      "$43$ & $26507$ &\n",
      "$44$ & $26507$ &\n",
      "$45$ & $26507$ &\n",
      "$46$ & $26507$ \\\\\n",
      "$47$ & $26507$ &\n",
      "$48$ & $26507$ &\n",
      "$49$ & $26507$ &\n"
     ]
    }
   ],
   "source": [
    "for m in range(7,50):\n",
    "    print(f'${m}$ & ${ceil(bound2_of_log_abc(m)+0.1)}$', '&' if m%5!=1 else '\\\\\\\\')"
   ]
  }
 ],
 "metadata": {
  "kernelspec": {
   "display_name": "Python 3",
   "language": "python",
   "name": "python3"
  },
  "language_info": {
   "codemirror_mode": {
    "name": "ipython",
    "version": 3
   },
   "file_extension": ".py",
   "mimetype": "text/x-python",
   "name": "python",
   "nbconvert_exporter": "python",
   "pygments_lexer": "ipython3",
   "version": "3.8.8"
  }
 },
 "nbformat": 4,
 "nbformat_minor": 2
}
