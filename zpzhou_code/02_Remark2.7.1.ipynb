{
 "cells": [
  {
   "cell_type": "markdown",
   "metadata": {},
   "source": [
    "# Computation for Remark 2.7.1"
   ]
  },
  {
   "cell_type": "code",
   "execution_count": 1,
   "metadata": {},
   "outputs": [],
   "source": [
    "import os\n",
    "import pandas as pd\n",
    "from inspect import getsource\n",
    "from utils import *\n",
    "if not os.path.exists('data/'):\n",
    "    os.makedirs('data')"
   ]
  },
  {
   "cell_type": "markdown",
   "metadata": {},
   "source": [
    "We shall consider about the estimates of $\\text{Vol}(l)$ via Proposition 1.9. \n",
    "\n",
    "Let $p$ be a prime number. Since $F_\\text{mod} = \\mathbb{Q}$, all the $v_i$ equals $v = v_p$ in Proposition 1.9 $(i)$.\n",
    "Choose $d_p \\ge d_v$ for some real number $d_p$, and let $e_p=e_v$, $a_p=a_v$, $b_p=b_v$. \n",
    "Here by Lemma 1.2, we can take $d_p = 1 - \\frac{1}{e_p}$ if $p\\nmid e_p$, and take $d_p = 1 + v_p(e_p)$ if $p\\mid e_p$.\n",
    "\n",
    "Then by Proposition 1.9 $(i)$ and the fact $v_p(q_{v_j}) = 2\\cdot v_p(N)$, we have\n",
    "$$\n",
    "-|\\log(\\underline{\\underline{\\Theta}})|_{v_p, j} \n",
    "= -|\\log(\\underline{\\underline{\\Theta}})|_{v_0,\\dots,v_j} \n",
    "\\le (\\max\\{ \\lceil -\\frac{j^2}{l}\\cdot v_p(N) + j\\cdot d_p + (j+1)\\cdot a_p \\rceil, \n",
    "\\\\-\\frac{j^2}{l}\\cdot v_p(N)+v_p(2p)\\cdot(j+1) \\} + (j+1)\\cdot b_p ) \\cdot \\log(p).$$\n",
    "\n"
   ]
  },
  {
   "cell_type": "markdown",
   "metadata": {},
   "source": [
    "Put \n",
    "$$ B_0(p,j) = ( \\max\\{ \\lceil -\\frac{j^2}{l} \\cdot v_p(N) + j\\cdot d_p + (j+1)\\cdot a_p \\rceil  + \\frac{j^2}{l}\\cdot v_p(N), \\\\ v_p(2p)\\cdot(j+1) \\}  + (j+1)\\cdot b_p ),$$\n",
    "then \n",
    "$$ B_0(p,j) \\cdot \\log(p) \\ge \n",
    "-|\\log(\\underline{\\underline{\\Theta}})|_{v_p, j} + \\frac{j^2}{l} \\cdot v_p(N) \\cdot \\log(p).$$\n"
   ]
  },
  {
   "cell_type": "markdown",
   "metadata": {},
   "source": [
    "Put\n",
    "$$ \\delta_p(N) = \\min\\{1,v_p(N)\\},\n",
    "\\quad B_1(p) = \\frac{1}{l^\\divideontimes} \\cdot \\sum_{j=1}^{l^\\divideontimes}B_0(P,j) \n",
    "- \\frac{l+5}{4}\\cdot \\delta_p(N)\\cdot(1-\\frac{1}{3l})\\cdot \\log(p).$$\n",
    "Here, $B_1(p)= B_1(l,p,e_p,v_p(N) \\text{ mod } l)$ only depends on $l,p,e_p$ and $v_p(N) \\text{ mod } l$."
   ]
  },
  {
   "cell_type": "markdown",
   "metadata": {},
   "source": [
    "Let $B(l,p)$ be the largest value of $B_1(l,p,e_p,v_p(N) \\text{ mod } l)$ for all the possible $l,p,e_p$ and $v_p(N) \\text{ mod } l$. \n",
    "\n",
    "Note that if $p \\neq 2,3,3$ and $E$ has good reduction at $v_p$, \n",
    "then we have $e_p = a_p = - b_p = 1$, $v_p(N) = \\delta_p(N) = d_p = B_0(p,j) = 0$, \n",
    "hence $B(p)\\ge B_1(p) = 0$;\n",
    "\n",
    "if $p \\neq 2,3,3$, $E$ has bad reduction at $v_p$ and $e_p \\le p-2$, \n",
    "then $\\delta_p(N)=1$, $B_0(p,j) = (j+1)\\cdot d_p = (j+1)\\cdot (1-\\frac{1}{e_p})$, \n",
    "$B_1(p) = \\frac{l+5}{4}\\cdot (d_p - (1 - \\frac{1}{3l})) \\cdot \\log(p) \\le 0$."
   ]
  },
  {
   "cell_type": "markdown",
   "metadata": {},
   "source": [
    "Hence when $p\\neq 2,3,l$, we have $B(p)\\ge 0$ [by the case of good reduction at $v_p$]; when $p>3l+1$, we have $B(p) = 0$.\n",
    "\n",
    "Also, for any prime number $p$, by the definition of $B_1(p)$, we have\n",
    "$$ B(l,p) \\cdot \\log(p) + \\frac{l+5}{4}\\cdot \\delta_p(N)\\cdot(1-\\frac{1}{3l})\\cdot \\log(p) \n",
    "\\ge -|\\log(\\underline{\\underline{\\Theta}})|_{v_p} \n",
    "+ \\frac{l+1}{12}\\cdot \\delta_p(N)\\cdot v_p(N)\\cdot \\log(p) .$$"
   ]
  },
  {
   "cell_type": "markdown",
   "metadata": {},
   "source": [
    "By summing $(*)$ over $p$ and adding $\\frac{l+5}{4}\\cdot \\log(\\pi)$ on both sides, we have\n",
    "$$\n",
    "\\sum_{p\\le 3l+1}B(l,p)\\cdot \\log(p) + \\frac{l+5}{4}\\cdot \\log(\\pi) \n",
    "+ \\frac{l+5}{4}\\cdot (1-\\frac{1}{3l})\\cdot \\log\\text{rad}(N)  \n",
    "\\ge  -|\\log(\\underline{\\underline{\\Theta}})| +  \\frac{l+1}{12}\\cdot\\log(N) \\ge           \\frac{l^2+l-12}{12l}\\cdot\\log(N),\n",
    "$$\n",
    "here we use the inequality $-|\\log(\\underline{\\underline{\\Theta}})|\\ge -\\frac{1}{2l} \\cdot \\log(\\underline{\\underline{\\mathfrak{q}}}) \n",
    "= -\\frac{1}{l}\\cdot \\log(N)$."
   ]
  },
  {
   "cell_type": "markdown",
   "metadata": {},
   "source": [
    "Then the $\\text{Vol}(l)$ in Propositon 2.7 can be taken to be \n",
    "$$\n",
    "\\frac{4l}{l^2+l-12}\\cdot \\sum_{p\\le 3l+1}B(l,p) \n",
    "+ \\frac{l^2+5l}{l^2+l-12}\\cdot \\log(\\pi) .\n",
    "$$"
   ]
  },
  {
   "cell_type": "markdown",
   "metadata": {},
   "source": [
    "To compute the function $B(l,p)$, we need to find all the possible values of $e_p,\\delta_p(N)$ and $v_p(N) \\text{ mod } l$ for given $l,p$."
   ]
  },
  {
   "cell_type": "markdown",
   "metadata": {},
   "source": [
    "Case I: $p \\neq 2,3,l$, then $e_p\\in\\{1,3,l,3l\\}$.\n",
    "\n",
    "* Since $p\\nmid e_p$, we can put $d_p = 1-\\frac{1}{e_p}$.\n",
    "* For the case $p\\nmid N$, we have $\\delta_p(N)=v_p(N)=0$, $e_p = 1$, $B_1(p) = 0$.\n",
    "* For the case $p\\nmid N$, we have $\\delta_p(N)=1$. In thids case, if $e_p \\in \\{1, 3\\}$, then $l\\mid v_p(N)$; if $e_p\\in \\{l, 3l\\}$, then $l \\nmid v_p(N)$.\n",
    "\n",
    "Case II: $p\\in\\{2,3,l\\}$ and $p\\mid N$, then $\\delta_p(N)=1$.\n",
    "\n",
    "* We have $e_2,e_3 \\in \\{2,6,2l,6l\\}$ and $e_l \\in\\{l-1,3(l-1),l(l-1),3l(l-1)\\}$.\n",
    "* If $l\\nmid e_p$, then $l\\mid v_p(N)$; if $l \\mid e_p$, then $l \\nmid v_p(N)$.\n",
    "\n",
    "Case III: $p\\in\\{2,3,l\\}$ and $p\\nmid N$, then $\\delta_p(N) = v_p(N)= 0$.\n",
    "\n",
    "* For $p=2$, we have $e_2 \\in \\{2,4,6,8,12,16,24,48\\}$.\n",
    "* For $p=3$, we have $e_3 \\in \\{2,6,8\\}$.\n",
    "* For $p=l$, we have $e_l \\in \\{l-1,l(l-1),l^2-1\\}$."
   ]
  },
  {
   "cell_type": "code",
   "execution_count": 2,
   "metadata": {},
   "outputs": [
    {
     "name": "stdout",
     "output_type": "stream",
     "text": [
      "def log_volume_at_p(l, p, ep, delta_p = 1):\n",
      "    if ep == 1:\n",
      "        delta_p = 0 \n",
      "    l1 = l//2\n",
      "    upper_bound = 0\n",
      "    # the p-adic valuation of ep\n",
      "    vp_ep = 0\n",
      "    tmp_ep = ep\n",
      "    while tmp_ep % p == 0:\n",
      "        vp_ep += 1\n",
      "        tmp_ep = tmp_ep / p\n",
      "    # the value of dp\n",
      "    if vp_ep == 0:\n",
      "        dp = 1 - Fraction(1, ep)\n",
      "    else:\n",
      "        dp = vp_ep + 1\n",
      "    # the value of ap and bp\n",
      "    ap = Fraction(ep//(p-1) + 1, ep)\n",
      "    bp = max(1-Fraction(p,ep), Fraction(-1,ep))\n",
      "\n",
      "    # the contribution at vp in \\log\\rad(N)\n",
      "    cp = delta_p * (1 - Fraction(1,3*l)) * (l+5) / 4\n",
      "\n",
      "    # the upper bound of B_1(p)\n",
      "    if delta_p == 0 or ep % l != 0:\n",
      "        # In this case, v_p(N) \\equiv 0 mod l\n",
      "        for j in range(1,l1+1):\n",
      "            upper_bound += max(ceil(j*dp+(j+1)*ap), (j+1)*(1+(p==2)))+ (j+1)*bp\n",
      "        upper_bound = Fraction(upper_bound, l1) - cp\n",
      "        return upper_bound\n",
      "    if ep % l == 0:\n",
      "        # the largest B_1(p) for vp(N) mod l in [1,2,...,l-1].\n",
      "        tmp_upper_bounds = []\n",
      "        for vp in range(1,l):\n",
      "            tmp_upper_bound = 0\n",
      "            for j in range(1,l1+1):\n",
      "                lambda1 = Fraction(-j*j*vp,l)\n",
      "                tmp_upper_bound += max(ceil(lambda1+j*dp+(j+1)*ap) - lambda1, (j+1)*(1+(p==2))) + (j+1)*bp\n",
      "            tmp_upper_bounds.append(tmp_upper_bound)\n",
      "        upper_bound = max(tmp_upper_bounds)\n",
      "        upper_bound = Fraction(upper_bound, l1) - cp\n",
      "        return upper_bound\n",
      "\n",
      "def compute_log_volume(l, is_bad_at_2 = False):\n",
      "    if l < 5:\n",
      "        return 'NAN'\n",
      "    my_primes = primes(3*l+1)\n",
      "    res = 0\n",
      "    for p in my_primes:\n",
      "        tmp_volumes = []\n",
      "        if p not in (2,3,l):\n",
      "            for ep in (1, 3, l, 3*l):\n",
      "                tmp_volumes.append(log_volume_at_p(l,p,ep))\n",
      "        elif p==3:\n",
      "            for ep in (2,6,2*l, 6*l):\n",
      "                tmp_volumes.append(log_volume_at_p(l,p,ep))\n",
      "            for ep in (2,6,8):\n",
      "                tmp_volumes.append(log_volume_at_p(l,p,ep,delta_p=0))   \n",
      "        elif p==l:\n",
      "            for ep in (l-1,3*(l-1),l*(l-1),3*l*(l-1)):\n",
      "                tmp_volumes.append(log_volume_at_p(l,p,ep))\n",
      "            for ep in (l-1,l*(l-1),l*l-1):\n",
      "                tmp_volumes.append(log_volume_at_p(l,p,ep,delta_p=0))  \n",
      "        else: # p==2\n",
      "            for ep in (2,6,2*l, 6*l):\n",
      "                tmp_volumes.append(log_volume_at_p(l,p,ep))\n",
      "            if not is_bad_at_2:\n",
      "                for ep in (2,4,6,8,12,16,24,48):\n",
      "                    tmp_volumes.append(log_volume_at_p(l,p,ep,delta_p=0))\n",
      "        tmp_volume = max(tmp_volumes)\n",
      "        res += tmp_volume * log(p)\n",
      "    res = res * Fraction(4*l,l*l+l-12) + log(pi) * Fraction(l*l+5*l,l*l+l-12)\n",
      "    return res\n",
      "\n"
     ]
    }
   ],
   "source": [
    "print(getsource(log_volume_at_p))\n",
    "print(getsource(compute_log_volume))"
   ]
  },
  {
   "cell_type": "code",
   "execution_count": 10,
   "metadata": {},
   "outputs": [
    {
     "name": "stderr",
     "output_type": "stream",
     "text": [
      "100%|██████████| 35/35 [01:51<00:00,  3.19s/it]"
     ]
    },
    {
     "name": "stdout",
     "output_type": "stream",
     "text": [
      "5 33.938\n",
      "7 30.561\n",
      "11 32.914\n",
      "13 34.689\n",
      "17 40.096\n",
      "19 42.673\n",
      "23 48.160\n",
      "29 56.848\n",
      "31 59.800\n",
      "37 68.469\n",
      "41 74.405\n",
      "43 77.088\n",
      "47 82.819\n",
      "53 91.186\n",
      "59 99.728\n",
      "61 102.678\n",
      "67 111.450\n",
      "71 117.303\n",
      "73 120.106\n",
      "79 128.513\n",
      "83 134.407\n",
      "89 143.055\n",
      "97 155.064\n",
      "101 160.892\n",
      "103 163.743\n",
      "107 169.613\n",
      "109 172.482\n",
      "113 178.167\n",
      "127 198.113\n",
      "131 203.901\n",
      "137 212.557\n",
      "139 215.415\n",
      "149 229.875\n"
     ]
    },
    {
     "name": "stderr",
     "output_type": "stream",
     "text": [
      "\n"
     ]
    }
   ],
   "source": [
    "if not os.path.isfile('data/volume_150_when_bad_at_2.pkl'):\n",
    "    volume_150_when_bad_at_2 = dict()\n",
    "    for p in tqdm(primes(150)):\n",
    "        if p < 5:\n",
    "            continue\n",
    "        volume = compute_log_volume(p, True)\n",
    "        volume = ceil(1000*volume+1) / 1000\n",
    "        volume_150_when_bad_at_2[p] = volume\n",
    "        pd.to_pickle(volume_150_when_bad_at_2,\"data/volume_150_when_bad_at_2.pkl\")\n",
    "else:\n",
    "    volume_150_when_bad_at_2 = pd.read_pickle(\"data/volume_150_when_bad_at_2.pkl\")\n",
    "\n",
    "for p in primes(150):\n",
    "    if p < 5:\n",
    "        continue\n",
    "    print(p, '%.3f' % volume_150_when_bad_at_2[p])"
   ]
  }
 ],
 "metadata": {
  "kernelspec": {
   "display_name": "Python 3",
   "language": "python",
   "name": "python3"
  },
  "language_info": {
   "codemirror_mode": {
    "name": "ipython",
    "version": 3
   },
   "file_extension": ".py",
   "mimetype": "text/x-python",
   "name": "python",
   "nbconvert_exporter": "python",
   "pygments_lexer": "ipython3",
   "version": "3.9.6"
  }
 },
 "nbformat": 4,
 "nbformat_minor": 2
}
