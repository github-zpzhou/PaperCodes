{
 "cells": [
  {
   "cell_type": "markdown",
   "metadata": {},
   "source": [
    "# Searching for Corollary 3.13"
   ]
  },
  {
   "cell_type": "markdown",
   "metadata": {},
   "source": [
    "We shall show that for any positive integers $r, s, t\\ge 20$, \n",
    "there does not exist any triple $(x, y, z)$ of positive coprime integers that satisﬁes the generalized Fermat equation\n",
    "$$x^r + y^s = z^t.$$"
   ]
  },
  {
   "cell_type": "markdown",
   "metadata": {},
   "source": [
    "By Theorem 3.11, we must have $\\log(x^r y^s z^t) \\le 511$.\n",
    "Since $x, y \\ge 2$ by Catalan's conjecture (now Mihăilescu's theorem), we have\n",
    "$$2^{20} \\le x^r,y^s < z^t \\le \\exp(511/2)$$"
   ]
  },
  {
   "cell_type": "markdown",
   "metadata": {},
   "source": [
    "Let $S$ be the set of all possible integers of the form $x^r \\le \\exp(511/2)$, where $x, r$ are positive integers auch that $r \\ge 20$. \n",
    "Then we only need to search for the potential triples of coprime numbers $a,b,c\\in S$, such that $a + b = c$"
   ]
  },
  {
   "cell_type": "markdown",
   "metadata": {},
   "source": [
    "The code for search is \"search.cpp\". One can compile and run the program in terminal using \n",
    "\n",
    "> g++ -g -Wall -std=c++11 search.cpp\n",
    "\n",
    "> ./a.out\n",
    "\n",
    "Output:\n",
    "> $\\cdots$\n",
    "> \n",
    "> Now: 878012 / 878013 Time: 4726s Left:0s\n",
    "> \n",
    "> Have solution? No!\n",
    "\n",
    "The output of the code shows that such triple $(a, b, c)$ doesn't exist."
   ]
  }
 ],
 "metadata": {
  "kernelspec": {
   "display_name": "base",
   "language": "python",
   "name": "python3"
  },
  "language_info": {
   "codemirror_mode": {
    "name": "ipython",
    "version": 3
   },
   "file_extension": ".py",
   "mimetype": "text/x-python",
   "name": "python",
   "nbconvert_exporter": "python",
   "pygments_lexer": "ipython3",
   "version": "3.8.8"
  }
 },
 "nbformat": 4,
 "nbformat_minor": 2
}
